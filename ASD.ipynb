{
  "nbformat": 4,
  "nbformat_minor": 0,
  "metadata": {
    "colab": {
      "name": "ASD.ipynb",
      "provenance": [],
      "include_colab_link": true
    },
    "kernelspec": {
      "name": "python3",
      "display_name": "Python 3"
    },
    "accelerator": "GPU"
  },
  "cells": [
    {
      "cell_type": "markdown",
      "metadata": {
        "id": "view-in-github",
        "colab_type": "text"
      },
      "source": [
        "<a href=\"https://colab.research.google.com/github/kozltv/EEG-pycorder-matlab/blob/master/ASD.ipynb\" target=\"_parent\"><img src=\"https://colab.research.google.com/assets/colab-badge.svg\" alt=\"Open In Colab\"/></a>"
      ]
    },
    {
      "cell_type": "code",
      "metadata": {
        "id": "MQ0EHdDPxrVX",
        "colab_type": "code",
        "colab": {}
      },
      "source": [
        "import numpy as np\n",
        "from keras.models import Sequential\n",
        "from keras.layers import Dense, Dropout, Activation, Flatten\n",
        "from keras.layers import Convolution2D, MaxPooling2D,Conv2D\n",
        "from keras.utils import np_utils\n",
        "from sklearn.model_selection import train_test_split\n",
        "from sklearn.metrics import roc_auc_score,roc_curve,auc\n",
        "import zipfile\n",
        "from sklearn.model_selection import StratifiedKFold\n",
        "from scipy import interp\n",
        "import pandas as pd"
      ],
      "execution_count": 0,
      "outputs": []
    },
    {
      "cell_type": "code",
      "metadata": {
        "id": "StaDJVjP5tH6",
        "colab_type": "code",
        "colab": {}
      },
      "source": [
        "#Uncompressing zip file\n",
        "zip_ref = zipfile.ZipFile('ASD_Cropped.zip', 'r')\n",
        "zip_ref.extractall()\n",
        "zip_ref.close()"
      ],
      "execution_count": 0,
      "outputs": []
    },
    {
      "cell_type": "code",
      "metadata": {
        "id": "s6sqcCOM6jii",
        "colab_type": "code",
        "colab": {}
      },
      "source": [
        "# Reading data\n",
        "np.random.seed(123)\n",
        "my_data = np.genfromtxt('ASD_Cropped.csv', delimiter=',')\n",
        "\n",
        "labels = my_data[1:,0].astype(dtype='int')\n",
        "features = my_data[1:,1:]"
      ],
      "execution_count": 0,
      "outputs": []
    },
    {
      "cell_type": "markdown",
      "metadata": {
        "id": "V5euxCVO7iVg",
        "colab_type": "text"
      },
      "source": [
        "print(features.shape)\n",
        "print(labels.shape)"
      ]
    },
    {
      "cell_type": "code",
      "metadata": {
        "id": "rDdQUyHh_1ta",
        "colab_type": "code",
        "colab": {}
      },
      "source": [
        "folds = 3\n",
        "kfold = StratifiedKFold(n_splits=folds, shuffle=True, random_state=42).split(features, labels)"
      ],
      "execution_count": 0,
      "outputs": []
    },
    {
      "cell_type": "code",
      "metadata": {
        "id": "SDmjc8MOJksq",
        "colab_type": "code",
        "outputId": "b4d91576-53b8-4f28-b7a6-941017036ede",
        "colab": {
          "base_uri": "https://localhost:8080/",
          "height": 35
        }
      },
      "source": [
        "features = features.reshape(features.shape[0],150,150,1)\n",
        "print(features.shape)"
      ],
      "execution_count": 0,
      "outputs": [
        {
          "output_type": "stream",
          "text": [
            "(5985, 150, 150, 1)\n"
          ],
          "name": "stdout"
        }
      ]
    },
    {
      "cell_type": "code",
      "metadata": {
        "id": "_9pGUBjFBKSv",
        "colab_type": "code",
        "outputId": "8a28e4b9-8465-465a-dd0f-904e58d6245f",
        "colab": {
          "base_uri": "https://localhost:8080/",
          "height": 1000
        }
      },
      "source": [
        "tprs = []\n",
        "aucs = []\n",
        "mean_fpr = np.linspace(0, 1, 100)\n",
        "\n",
        "for train, test in kfold:  \n",
        "  #Defining model architecture\n",
        "  model = Sequential()\n",
        "\n",
        "  model = Sequential()\n",
        "  model.add(Convolution2D(16, 2,2, activation='relu',input_shape=(150, 150,1)))\n",
        "\n",
        "  model.add(Convolution2D(32, 2, 2, activation='relu'))\n",
        "  model.add(MaxPooling2D(pool_size=(2, 2)))\n",
        "  model.add(Dropout(0.2))\n",
        "  model.add(Flatten())\n",
        "  model.add(Dense(64, activation='relu'))\n",
        "  model.add(Dropout(0.2))\n",
        "  model.add(Dense(1, activation='sigmoid'))\n",
        "\n",
        "  #Compiling model\n",
        "  model.compile(loss='binary_crossentropy',optimizer='adam',metrics=['accuracy'])\n",
        "  #Fitting model on training data\n",
        "  hist = model.fit(features[train], labels[train],batch_size=12, nb_epoch=10, verbose=1, validation_split=0.30)\n",
        "  pred = model.predict(features[test]).ravel()\n",
        "  fpr, tpr, thresholds = roc_curve(labels[test], pred)\n",
        "  tprs.append(interp(mean_fpr, fpr, tpr))\n",
        "  tprs[-1][0] = 0.0\n",
        "  roc_auc = auc(fpr, tpr)\n",
        "  print(roc_auc)\n",
        "  aucs.append(roc_auc)\n",
        "  \n",
        "\n",
        "print(\"Avg AUC:\", np.mean(aucs))\n"
      ],
      "execution_count": 0,
      "outputs": [
        {
          "output_type": "stream",
          "text": [
            "/usr/local/lib/python3.6/dist-packages/ipykernel_launcher.py:10: UserWarning: Update your `Conv2D` call to the Keras 2 API: `Conv2D(16, (2, 2), activation=\"relu\", input_shape=(150, 150,...)`\n",
            "  # Remove the CWD from sys.path while we load stuff.\n",
            "/usr/local/lib/python3.6/dist-packages/ipykernel_launcher.py:12: UserWarning: Update your `Conv2D` call to the Keras 2 API: `Conv2D(32, (2, 2), activation=\"relu\")`\n",
            "  if sys.path[0] == '':\n",
            "/usr/local/lib/python3.6/dist-packages/ipykernel_launcher.py:23: UserWarning: The `nb_epoch` argument in `fit` has been renamed `epochs`.\n"
          ],
          "name": "stderr"
        },
        {
          "output_type": "stream",
          "text": [
            "Train on 2792 samples, validate on 1197 samples\n",
            "Epoch 1/10\n",
            "2792/2792 [==============================] - 10s 3ms/step - loss: 0.3386 - acc: 0.8603 - val_loss: 2.7159 - val_acc: 0.0744\n",
            "Epoch 2/10\n",
            "2792/2792 [==============================] - 8s 3ms/step - loss: 0.1556 - acc: 0.9441 - val_loss: 3.0756 - val_acc: 0.1654\n",
            "Epoch 3/10\n",
            "2792/2792 [==============================] - 8s 3ms/step - loss: 0.0436 - acc: 0.9867 - val_loss: 6.3588 - val_acc: 0.1270\n",
            "Epoch 4/10\n",
            "2792/2792 [==============================] - 8s 3ms/step - loss: 0.0136 - acc: 0.9964 - val_loss: 7.1365 - val_acc: 0.1328\n",
            "Epoch 5/10\n",
            "2792/2792 [==============================] - 8s 3ms/step - loss: 0.0031 - acc: 0.9996 - val_loss: 7.7877 - val_acc: 0.1579\n",
            "Epoch 6/10\n",
            "2792/2792 [==============================] - 8s 3ms/step - loss: 0.0106 - acc: 0.9968 - val_loss: 6.9652 - val_acc: 0.1738\n",
            "Epoch 7/10\n",
            "2792/2792 [==============================] - 8s 3ms/step - loss: 0.0021 - acc: 0.9993 - val_loss: 7.7855 - val_acc: 0.1738\n",
            "Epoch 8/10\n",
            "2792/2792 [==============================] - 8s 3ms/step - loss: 0.0031 - acc: 0.9993 - val_loss: 6.1311 - val_acc: 0.3200\n",
            "Epoch 9/10\n",
            "2792/2792 [==============================] - 8s 3ms/step - loss: 0.0039 - acc: 0.9982 - val_loss: 9.0785 - val_acc: 0.1520\n",
            "Epoch 10/10\n",
            "2792/2792 [==============================] - 8s 3ms/step - loss: 0.0057 - acc: 0.9989 - val_loss: 8.5259 - val_acc: 0.1504\n",
            "0.788924752431768\n"
          ],
          "name": "stdout"
        },
        {
          "output_type": "stream",
          "text": [
            "/usr/local/lib/python3.6/dist-packages/ipykernel_launcher.py:10: UserWarning: Update your `Conv2D` call to the Keras 2 API: `Conv2D(16, (2, 2), activation=\"relu\", input_shape=(150, 150,...)`\n",
            "  # Remove the CWD from sys.path while we load stuff.\n",
            "/usr/local/lib/python3.6/dist-packages/ipykernel_launcher.py:12: UserWarning: Update your `Conv2D` call to the Keras 2 API: `Conv2D(32, (2, 2), activation=\"relu\")`\n",
            "  if sys.path[0] == '':\n",
            "/usr/local/lib/python3.6/dist-packages/ipykernel_launcher.py:23: UserWarning: The `nb_epoch` argument in `fit` has been renamed `epochs`.\n"
          ],
          "name": "stderr"
        },
        {
          "output_type": "stream",
          "text": [
            "Train on 2793 samples, validate on 1197 samples\n",
            "Epoch 1/10\n",
            "2793/2793 [==============================] - 10s 4ms/step - loss: 0.3433 - acc: 0.8686 - val_loss: 1.8480 - val_acc: 0.0994\n",
            "Epoch 2/10\n",
            "2793/2793 [==============================] - 8s 3ms/step - loss: 0.1685 - acc: 0.9395 - val_loss: 1.6629 - val_acc: 0.3492\n",
            "Epoch 3/10\n",
            "2793/2793 [==============================] - 8s 3ms/step - loss: 0.0698 - acc: 0.9785 - val_loss: 5.2073 - val_acc: 0.1086\n",
            "Epoch 4/10\n",
            "2793/2793 [==============================] - 8s 3ms/step - loss: 0.0241 - acc: 0.9932 - val_loss: 6.1667 - val_acc: 0.1261\n",
            "Epoch 5/10\n",
            "2793/2793 [==============================] - 8s 3ms/step - loss: 0.0164 - acc: 0.9953 - val_loss: 6.2007 - val_acc: 0.1662\n",
            "Epoch 6/10\n",
            "2793/2793 [==============================] - 8s 3ms/step - loss: 0.0049 - acc: 0.9993 - val_loss: 8.3998 - val_acc: 0.0961\n",
            "Epoch 7/10\n",
            "2793/2793 [==============================] - 8s 3ms/step - loss: 0.0150 - acc: 0.9953 - val_loss: 7.8984 - val_acc: 0.0944\n",
            "Epoch 8/10\n",
            "2793/2793 [==============================] - 8s 3ms/step - loss: 0.0066 - acc: 0.9982 - val_loss: 5.8385 - val_acc: 0.2481\n",
            "Epoch 9/10\n",
            "2793/2793 [==============================] - 8s 3ms/step - loss: 0.0057 - acc: 0.9989 - val_loss: 8.2116 - val_acc: 0.1161\n",
            "Epoch 10/10\n",
            "2793/2793 [==============================] - 8s 3ms/step - loss: 0.0032 - acc: 0.9989 - val_loss: 9.9376 - val_acc: 0.0710\n",
            "0.8102529716103124\n"
          ],
          "name": "stdout"
        },
        {
          "output_type": "stream",
          "text": [
            "/usr/local/lib/python3.6/dist-packages/ipykernel_launcher.py:10: UserWarning: Update your `Conv2D` call to the Keras 2 API: `Conv2D(16, (2, 2), activation=\"relu\", input_shape=(150, 150,...)`\n",
            "  # Remove the CWD from sys.path while we load stuff.\n",
            "/usr/local/lib/python3.6/dist-packages/ipykernel_launcher.py:12: UserWarning: Update your `Conv2D` call to the Keras 2 API: `Conv2D(32, (2, 2), activation=\"relu\")`\n",
            "  if sys.path[0] == '':\n",
            "/usr/local/lib/python3.6/dist-packages/ipykernel_launcher.py:23: UserWarning: The `nb_epoch` argument in `fit` has been renamed `epochs`.\n"
          ],
          "name": "stderr"
        },
        {
          "output_type": "stream",
          "text": [
            "Train on 2793 samples, validate on 1198 samples\n",
            "Epoch 1/10\n",
            "2793/2793 [==============================] - 10s 3ms/step - loss: 0.3523 - acc: 0.8546 - val_loss: 2.1913 - val_acc: 0.0000e+00\n",
            "Epoch 2/10\n",
            "2793/2793 [==============================] - 8s 3ms/step - loss: 0.1946 - acc: 0.8883 - val_loss: 2.8231 - val_acc: 0.0100\n",
            "Epoch 3/10\n",
            "2793/2793 [==============================] - 8s 3ms/step - loss: 0.1257 - acc: 0.9484 - val_loss: 3.5052 - val_acc: 0.0693\n",
            "Epoch 4/10\n",
            "2793/2793 [==============================] - 8s 3ms/step - loss: 0.0962 - acc: 0.9810 - val_loss: 5.3221 - val_acc: 0.0459\n",
            "Epoch 5/10\n",
            "2793/2793 [==============================] - 8s 3ms/step - loss: 0.0792 - acc: 0.9936 - val_loss: 5.3944 - val_acc: 0.0793\n",
            "Epoch 6/10\n",
            "2793/2793 [==============================] - 8s 3ms/step - loss: 0.0666 - acc: 0.9989 - val_loss: 4.7074 - val_acc: 0.1745\n",
            "Epoch 7/10\n",
            "2793/2793 [==============================] - 8s 3ms/step - loss: 0.0581 - acc: 1.0000 - val_loss: 5.6099 - val_acc: 0.1644\n",
            "Epoch 8/10\n",
            "2793/2793 [==============================] - 8s 3ms/step - loss: 0.0510 - acc: 0.9996 - val_loss: 5.6319 - val_acc: 0.1761\n",
            "Epoch 9/10\n",
            "2793/2793 [==============================] - 8s 3ms/step - loss: 0.0451 - acc: 1.0000 - val_loss: 5.6247 - val_acc: 0.1870\n",
            "Epoch 10/10\n",
            "2793/2793 [==============================] - 8s 3ms/step - loss: 0.0402 - acc: 1.0000 - val_loss: 5.8653 - val_acc: 0.1903\n",
            "0.8495019949539401\n",
            "Avg AUC: 0.8162265729986734\n"
          ],
          "name": "stdout"
        }
      ]
    },
    {
      "cell_type": "code",
      "metadata": {
        "id": "thvFiSLFSmDj",
        "colab_type": "code",
        "outputId": "8c19fff1-b2f1-4f09-a26b-d2a08669d203",
        "colab": {
          "base_uri": "https://localhost:8080/",
          "height": 302
        }
      },
      "source": [
        "import matplotlib.pyplot as plt\n",
        "# Line line from origin represnting random predictions\n",
        "plt.plot([0, 1], [0, 1], linestyle='--', lw=2, color='black',alpha=0.3)\n",
        "#Adding to ROC plot\n",
        "mean_tpr = np.mean(tprs, axis=0)\n",
        "mean_tpr[-1] = 1.0\n",
        "mean_auc = auc(mean_fpr, mean_tpr)\n",
        "std_auc = np.std(aucs)\n",
        "plt.ylabel('True Positive')\n",
        "plt.xlabel('False Positive')\n",
        "plt.plot(mean_fpr, mean_tpr, color='blue',\n",
        "         label=r'With Augmentation (AUC≈%0.2f $\\pm$%0.2f)' % (mean_auc, std_auc),\n",
        "         lw=2, alpha=0.8)"
      ],
      "execution_count": 0,
      "outputs": [
        {
          "output_type": "execute_result",
          "data": {
            "text/plain": [
              "[<matplotlib.lines.Line2D at 0x7f876116d550>]"
            ]
          },
          "metadata": {
            "tags": []
          },
          "execution_count": 33
        },
        {
          "output_type": "display_data",
          "data": {
            "image/png": "[encoded data removed]",
            "text/plain": [
              "<Figure size 432x288 with 1 Axes>"
            ]
          },
          "metadata": {
            "tags": []
          }
        }
      ]
    }
  ]
}